{
 "cells": [
  {
   "cell_type": "code",
   "execution_count": 1,
   "metadata": {},
   "outputs": [],
   "source": [
    "import numpy as np\n",
    "import pandas as pd"
   ]
  },
  {
   "cell_type": "markdown",
   "metadata": {},
   "source": [
    "# Task 1"
   ]
  },
  {
   "cell_type": "code",
   "execution_count": 13,
   "metadata": {},
   "outputs": [],
   "source": [
    "data = pd.read_csv('./kmeans_data/data.csv', header=None)\n",
    "labels = pd.read_csv('./kmeans_data/label.csv', header=None)"
   ]
  },
  {
   "cell_type": "code",
   "execution_count": 245,
   "metadata": {},
   "outputs": [],
   "source": [
    "def sse(data, clusters, centers):\n",
    "    \n",
    "    s = 0\n",
    "    for i, c in enumerate(clusters):\n",
    "        # print(i, c)\n",
    "        s += (data.iloc[int(c)] - centers[int(c)]) ** 2\n",
    "    return s.sum()"
   ]
  },
  {
   "cell_type": "code",
   "execution_count": 260,
   "metadata": {},
   "outputs": [],
   "source": [
    "def distance(x, y, type='euclidean'):\n",
    "    if type == 'euclidean':\n",
    "        return (((x - y) ** 2).sum(-1) ** 0.5)\n",
    "    elif type == 'cosine':\n",
    "        return -(x * y).sum(-1) / ((x ** 2).sum(-1) ** 0.5) / ((y ** 2).sum(-1) ** 0.5)\n",
    "    \n",
    "    elif type == 'jacc':\n",
    "        return 1 - np.minimum(x, y).sum(-1) / np.maximum(x, y).sum(-1)\n",
    "    \n",
    "\n",
    "def kmeans(data, distance, type='euclidean', k=10, stop='no_change', print_j=False):\n",
    "    data_max = data.max().max()\n",
    "\n",
    "    clusters = np.zeros(data.shape[0])\n",
    "\n",
    "\n",
    "    j = 0\n",
    "    sse_list = []\n",
    "\n",
    "    while 1:\n",
    "        if j == 0:\n",
    "            centers = np.random.rand(k, data.shape[-1]) * data_max\n",
    "        \n",
    "        j += 1\n",
    "        old_centers = centers\n",
    "\n",
    "\n",
    "        for i, d in data.iterrows():\n",
    "\n",
    "            r = d.values.reshape(1, -1).repeat(k).reshape(k, -1)\n",
    "\n",
    "            distance_to_centers = distance(r, centers, type)\n",
    "            \n",
    "\n",
    "            cluster = distance_to_centers.argmin()\n",
    "\n",
    "            clusters[i] = cluster \n",
    "\n",
    "        for cluster in range(k):\n",
    "            where = clusters == cluster\n",
    "            \n",
    "            if where.sum() > 0:\n",
    " \n",
    "                centers[cluster] = data.iloc[where].mean()\n",
    "\n",
    "        sse_now = sse(data, clusters, centers)\n",
    "        sse_list.append(sse_now)\n",
    "        if print_j:\n",
    "            print(j)\n",
    "\n",
    "        if stop == 'no change':\n",
    "            if np.abs(old_centers - centers).sum() < 1:\n",
    "                break\n",
    "\n",
    "        if stop == 'sse':\n",
    "            if len(sse_list) > 1:\n",
    "                if sse_list[-1] >= sse_list[-2]:\n",
    "                    break\n",
    "\n",
    "        if stop == 'iter':\n",
    "            if j > 10:\n",
    "                break\n",
    "\n",
    "\n",
    "\n",
    "    return clusters, centers\n",
    "\n",
    "\n"
   ]
  },
  {
   "cell_type": "markdown",
   "metadata": {},
   "source": [
    "## Q1"
   ]
  },
  {
   "cell_type": "code",
   "execution_count": 243,
   "metadata": {},
   "outputs": [
    {
     "name": "stderr",
     "output_type": "stream",
     "text": [
      "/tmp/ipykernel_7558/1456532865.py:5: RuntimeWarning: invalid value encountered in divide\n",
      "  return -(x * y).sum(-1) / ((x ** 2).sum(-1) ** 0.5) / ((y ** 2).sum(-1) ** 0.5)\n"
     ]
    },
    {
     "data": {
      "text/plain": [
       "{'Euclidean': 571446.5983546398,\n",
       " 'Cosine': 453854.78072061995,\n",
       " 'Jaccard': 529461.1222513835}"
      ]
     },
     "execution_count": 243,
     "metadata": {},
     "output_type": "execute_result"
    }
   ],
   "source": [
    "norm_data = data / (data.max() + 1e-8)\n",
    "\n",
    "euc = kmeans(norm_data, distance, type='euclidean', k=10)\n",
    "cosine = kmeans(norm_data, distance, type='cosine', k=10)\n",
    "jacc = kmeans(norm_data, distance, type='jacc', k=10)\n",
    "\n",
    "dict(zip(('Euclidean', 'Cosine', 'Jaccard'), (sse(norm_data, *euc) ,sse(norm_data, *cosine), sse(norm_data, *jacc))))\n"
   ]
  },
  {
   "cell_type": "markdown",
   "metadata": {},
   "source": [
    "The cosine metric produces the least sse, and is the best metric in this case"
   ]
  },
  {
   "cell_type": "markdown",
   "metadata": {},
   "source": [
    "## Q2\n"
   ]
  },
  {
   "cell_type": "code",
   "execution_count": 244,
   "metadata": {},
   "outputs": [
    {
     "data": {
      "text/plain": [
       "{'Euclidean': 0.2699, 'Cosine': 0.1648, 'Jaccard': 0.3064}"
      ]
     },
     "execution_count": 244,
     "metadata": {},
     "output_type": "execute_result"
    }
   ],
   "source": [
    "def accuracy(labels, clusters):\n",
    "    preds = np.ones_like(labels) * labels.mode().values\n",
    "    for c in range(10):\n",
    "        where = clusters == c\n",
    "        if where.sum():\n",
    "            y = labels[where].mode()\n",
    "            preds[where] = y \n",
    "\n",
    "    return (preds == labels.values).mean()\n",
    "\n",
    "dict(zip(('Euclidean', 'Cosine', 'Jaccard'), (accuracy(labels, euc[0]), accuracy(labels, cosine[0]), accuracy(labels, jacc[0]))))\n",
    "    "
   ]
  },
  {
   "cell_type": "markdown",
   "metadata": {},
   "source": [
    "Jaccard gives the highest accuracy and is the best in this case\n"
   ]
  },
  {
   "cell_type": "markdown",
   "metadata": {},
   "source": [
    "## Q3"
   ]
  },
  {
   "cell_type": "code",
   "execution_count": 264,
   "metadata": {},
   "outputs": [
    {
     "name": "stdout",
     "output_type": "stream",
     "text": [
      "no change\n",
      "Euclidean\n",
      "1\n",
      "--------------\n",
      "Cosine\n",
      "1\n",
      "--------------\n",
      "Jaccard\n",
      "1\n",
      "====== sse increases ======\n",
      "Euclidean\n",
      "1\n",
      "2\n",
      "--------------\n",
      "Cosine\n",
      "1\n",
      "2\n",
      "--------------\n",
      "Jaccard\n",
      "1\n",
      "2\n",
      "3\n",
      "====== max iter ======\n",
      "1\n",
      "2\n",
      "3\n",
      "4\n",
      "5\n",
      "6\n",
      "7\n",
      "8\n",
      "9\n",
      "10\n",
      "11\n",
      "Euclidean\n",
      "--------------\n",
      "1\n",
      "2\n",
      "3\n",
      "4\n",
      "5\n",
      "6\n",
      "7\n",
      "8\n",
      "9\n",
      "10\n",
      "11\n",
      "Cosine\n",
      "--------------\n",
      "1\n",
      "2\n",
      "3\n",
      "4\n",
      "5\n",
      "6\n",
      "7\n",
      "8\n",
      "9\n",
      "10\n",
      "11\n",
      "Jaccard\n",
      "==============\n"
     ]
    }
   ],
   "source": [
    "print('no change')\n",
    "print('Euclidean')\n",
    "euc = kmeans(norm_data, distance, type='euclidean', k=10, stop='no change', print_j=True)\n",
    "print('--------------')\n",
    "print('Cosine')\n",
    "cosine = kmeans(norm_data, distance, type='cosine', k=10, stop='no change', print_j=True)\n",
    "print('--------------')\n",
    "print('Jaccard')\n",
    "jacc = kmeans(norm_data, distance, type='jacc', k=10, stop='no change', print_j=True)\n",
    "\n",
    "\n",
    "print('====== sse increases ======')\n",
    "print('Euclidean')\n",
    "\n",
    "euc = kmeans(norm_data, distance, type='euclidean', k=10, stop='sse', print_j=True)\n",
    "print('--------------')\n",
    "print('Cosine')\n",
    "cosine = kmeans(norm_data, distance, type='cosine', k=10, stop='sse', print_j=True)\n",
    "print('--------------')\n",
    "print('Jaccard')\n",
    "jacc = kmeans(norm_data, distance, type='jacc', k=10, stop='sse', print_j=True)\n",
    "\n",
    "print('====== max iter ======')\n",
    "\n",
    "euc = kmeans(norm_data, distance, type='euclidean', k=10, stop='iter', print_j=True)\n",
    "print('Euclidean')\n",
    "print('--------------')\n",
    "cosine = kmeans(norm_data, distance, type='cosine', k=10, stop='iter', print_j=True)\n",
    "print('Cosine')\n",
    "print('--------------')\n",
    "jacc = kmeans(norm_data, distance, type='jacc', k=10, stop='iter', print_j=True)\n",
    "print('Jaccard')\n",
    "print('==============')"
   ]
  },
  {
   "cell_type": "markdown",
   "metadata": {},
   "source": [
    "For all three metrics, max iteration (I set at 10) takes the longest to converge"
   ]
  },
  {
   "cell_type": "markdown",
   "metadata": {},
   "source": [
    "## Q4"
   ]
  },
  {
   "cell_type": "code",
   "execution_count": 263,
   "metadata": {},
   "outputs": [
    {
     "name": "stdout",
     "output_type": "stream",
     "text": [
      "no change\n",
      "{'Euclidean': 565813.2300076177, 'Cosine': 453854.78072061995, 'Jaccard': 541521.8530357155}\n",
      "====== sse increases ======\n",
      "{'Euclidean': 668676.6294435239, 'Cosine': 453854.78072061995, 'Jaccard': 523579.5470209942}\n",
      "====== max iter ======\n",
      "{'Euclidean': 445110.39948522276, 'Cosine': 453854.78072061995, 'Jaccard': 547122.3948305489}\n"
     ]
    }
   ],
   "source": [
    "print('no change')\n",
    "\n",
    "euc = kmeans(norm_data, distance, type='euclidean', k=10, stop='no change')\n",
    "cosine = kmeans(norm_data, distance, type='cosine', k=10, stop='no change')\n",
    "jacc = kmeans(norm_data, distance, type='jacc', k=10, stop='no change')\n",
    "\n",
    "print(dict(zip(('Euclidean', 'Cosine', 'Jaccard'), (sse(norm_data, *euc) ,sse(norm_data, *cosine), sse(norm_data, *jacc)))))\n",
    "\n",
    "print('====== sse increases ======')\n",
    "\n",
    "\n",
    "euc = kmeans(norm_data, distance, type='euclidean', k=10, stop='sse')\n",
    "\n",
    "cosine = kmeans(norm_data, distance, type='cosine', k=10, stop='sse')\n",
    "\n",
    "jacc = kmeans(norm_data, distance, type='jacc', k=10, stop='sse')\n",
    "print(dict(zip(('Euclidean', 'Cosine', 'Jaccard'), (sse(norm_data, *euc) ,sse(norm_data, *cosine), sse(norm_data, *jacc)))))\n",
    "print('====== max iter ======')\n",
    "\n",
    "euc = kmeans(norm_data, distance, type='euclidean', k=10, stop='iter')\n",
    "\n",
    "cosine = kmeans(norm_data, distance, type='cosine', k=10, stop='iter')\n",
    "\n",
    "jacc = kmeans(norm_data, distance, type='jacc', k=10, stop='iter')\n",
    "print(dict(zip(('Euclidean', 'Cosine', 'Jaccard'), (sse(norm_data, *euc) ,sse(norm_data, *cosine), sse(norm_data, *jacc)))))\n"
   ]
  },
  {
   "cell_type": "markdown",
   "metadata": {},
   "source": [
    "For Euclidean, when the stop criterion is max iteration, we have the least sse\n",
    "For cosine, the sse is the same regardless of the criterion\n",
    "For Jaccard, when the criterion for stopping is increase in sse, the sse is the lease"
   ]
  },
  {
   "cell_type": "markdown",
   "metadata": {},
   "source": [
    "## Q5"
   ]
  },
  {
   "cell_type": "markdown",
   "metadata": {},
   "source": [
    "Overall, due the problems with random initialization, kmeans cannot achieve very high performance. Using Jaccard gives the highest accuracy, while Cosine gives the minimum sse. Using max iteration for stopping takes the longest while using no change in centers takes the shortest time to converge"
   ]
  },
  {
   "cell_type": "markdown",
   "metadata": {},
   "source": [
    "# Task 2"
   ]
  },
  {
   "cell_type": "code",
   "execution_count": 285,
   "metadata": {},
   "outputs": [],
   "source": [
    "from surprise import SVD, Dataset, Reader, KNNBasic\n",
    "from surprise.model_selection import cross_validate"
   ]
  },
  {
   "cell_type": "markdown",
   "metadata": {},
   "source": [
    "## 3"
   ]
  },
  {
   "cell_type": "code",
   "execution_count": 272,
   "metadata": {},
   "outputs": [
    {
     "data": {
      "text/html": [
       "<div>\n",
       "<style scoped>\n",
       "    .dataframe tbody tr th:only-of-type {\n",
       "        vertical-align: middle;\n",
       "    }\n",
       "\n",
       "    .dataframe tbody tr th {\n",
       "        vertical-align: top;\n",
       "    }\n",
       "\n",
       "    .dataframe thead th {\n",
       "        text-align: right;\n",
       "    }\n",
       "</style>\n",
       "<table border=\"1\" class=\"dataframe\">\n",
       "  <thead>\n",
       "    <tr style=\"text-align: right;\">\n",
       "      <th></th>\n",
       "      <th>userId</th>\n",
       "      <th>movieId</th>\n",
       "      <th>rating</th>\n",
       "      <th>timestamp</th>\n",
       "    </tr>\n",
       "  </thead>\n",
       "  <tbody>\n",
       "    <tr>\n",
       "      <th>0</th>\n",
       "      <td>1</td>\n",
       "      <td>31</td>\n",
       "      <td>2.5</td>\n",
       "      <td>1260759144</td>\n",
       "    </tr>\n",
       "    <tr>\n",
       "      <th>1</th>\n",
       "      <td>1</td>\n",
       "      <td>1029</td>\n",
       "      <td>3.0</td>\n",
       "      <td>1260759179</td>\n",
       "    </tr>\n",
       "  </tbody>\n",
       "</table>\n",
       "</div>"
      ],
      "text/plain": [
       "   userId  movieId  rating   timestamp\n",
       "0       1       31     2.5  1260759144\n",
       "1       1     1029     3.0  1260759179"
      ]
     },
     "execution_count": 272,
     "metadata": {},
     "output_type": "execute_result"
    }
   ],
   "source": [
    "ratings = pd.read_csv('archive/ratings_small.csv')\n",
    "ratings.head(2)"
   ]
  },
  {
   "cell_type": "code",
   "execution_count": 280,
   "metadata": {},
   "outputs": [],
   "source": [
    "reader = Reader(rating_scale=(1, 5))\n",
    "\n",
    "\n",
    "data = Dataset.load_from_df(ratings[['userId', 'movieId', 'rating']], reader)"
   ]
  },
  {
   "cell_type": "markdown",
   "metadata": {},
   "source": [
    "## Probabilistic Matrix Factorization (PMF)"
   ]
  },
  {
   "cell_type": "code",
   "execution_count": 350,
   "metadata": {},
   "outputs": [],
   "source": [
    "# svd = SVD()\n",
    "svd = SVD(n_factors=20, n_epochs=50, lr_all=0.005, reg_all=0.02, biased=False)\n",
    "\n",
    "cv = cross_validate(svd, data, measures=['RMSE', 'MAE'], cv=5, verbose=False)\n",
    "\n",
    "pmf_rmse, pmf_mae = cv['test_rmse'].mean(), cv['test_mae'].mean()"
   ]
  },
  {
   "cell_type": "markdown",
   "metadata": {},
   "source": [
    "## User-based Collaborative Filtering"
   ]
  },
  {
   "cell_type": "code",
   "execution_count": 351,
   "metadata": {},
   "outputs": [
    {
     "name": "stdout",
     "output_type": "stream",
     "text": [
      "Computing the msd similarity matrix...\n",
      "Done computing similarity matrix.\n",
      "Computing the msd similarity matrix...\n",
      "Done computing similarity matrix.\n",
      "Computing the msd similarity matrix...\n",
      "Done computing similarity matrix.\n",
      "Computing the msd similarity matrix...\n",
      "Done computing similarity matrix.\n",
      "Computing the msd similarity matrix...\n",
      "Done computing similarity matrix.\n"
     ]
    }
   ],
   "source": [
    "user_based = KNNBasic(sim_options={'user_based': True})\n",
    "cv = cross_validate(user_based, data, measures=['RMSE', 'MAE'], cv=5, verbose=False)\n",
    "\n",
    "ub_rmse, ub_mae = cv['test_rmse'].mean(), cv['test_mae'].mean()"
   ]
  },
  {
   "cell_type": "markdown",
   "metadata": {},
   "source": [
    "## Item based Collaborative Filtering"
   ]
  },
  {
   "cell_type": "code",
   "execution_count": 352,
   "metadata": {},
   "outputs": [
    {
     "name": "stdout",
     "output_type": "stream",
     "text": [
      "Computing the msd similarity matrix...\n",
      "Done computing similarity matrix.\n",
      "Computing the msd similarity matrix...\n",
      "Done computing similarity matrix.\n",
      "Computing the msd similarity matrix...\n",
      "Done computing similarity matrix.\n",
      "Computing the msd similarity matrix...\n",
      "Done computing similarity matrix.\n",
      "Computing the msd similarity matrix...\n",
      "Done computing similarity matrix.\n"
     ]
    }
   ],
   "source": [
    "item_based = KNNBasic(sim_options={'user_based': False})\n",
    "cv = cross_validate(item_based, data, measures=['RMSE', 'MAE'], cv=5, verbose=False)\n",
    "\n",
    "ib_rmse, ib_mae = cv['test_rmse'].mean(), cv['test_mae'].mean()"
   ]
  },
  {
   "cell_type": "markdown",
   "metadata": {},
   "source": [
    "Item based gives the lowest average RMSE and MAE"
   ]
  },
  {
   "cell_type": "code",
   "execution_count": 354,
   "metadata": {},
   "outputs": [
    {
     "data": {
      "text/plain": [
       "<matplotlib.legend.Legend at 0x7eb9a3968f90>"
      ]
     },
     "execution_count": 354,
     "metadata": {},
     "output_type": "execute_result"
    },
    {
     "data": {
      "image/png": "[encoded data removed]",
      "text/plain": [
       "<Figure size 640x480 with 1 Axes>"
      ]
     },
     "metadata": {},
     "output_type": "display_data"
    }
   ],
   "source": [
    "plt.plot(\n",
    "    ['PMF', 'Item Based', 'User Based'],\n",
    "    [pmf_mae, ib_mae, ub_mae],\n",
    "    'b'\n",
    ")\n",
    "\n",
    "plt.plot(\n",
    "    ['PMF', 'Item Based', 'User Based'],\n",
    "    [pmf_rmse, ib_rmse, ub_rmse],\n",
    "    'g'\n",
    ")\n",
    "\n",
    "plt.legend(['MAE', 'RMSE'])"
   ]
  },
  {
   "cell_type": "markdown",
   "metadata": {},
   "source": [
    "## e"
   ]
  },
  {
   "cell_type": "markdown",
   "metadata": {},
   "source": [
    "### User based"
   ]
  },
  {
   "cell_type": "code",
   "execution_count": 300,
   "metadata": {},
   "outputs": [
    {
     "name": "stdout",
     "output_type": "stream",
     "text": [
      "Computing the cosine similarity matrix...\n",
      "Done computing similarity matrix.\n",
      "Computing the cosine similarity matrix...\n",
      "Done computing similarity matrix.\n",
      "Computing the cosine similarity matrix...\n",
      "Done computing similarity matrix.\n",
      "Computing the cosine similarity matrix...\n",
      "Done computing similarity matrix.\n",
      "Computing the cosine similarity matrix...\n",
      "Done computing similarity matrix.\n"
     ]
    },
    {
     "data": {
      "text/plain": [
       "(0.9938321037547514, 0.7675804546363839)"
      ]
     },
     "execution_count": 300,
     "metadata": {},
     "output_type": "execute_result"
    }
   ],
   "source": [
    "user_based = KNNBasic(sim_options={'user_based': True, 'name': 'cosine'})\n",
    "cv = cross_validate(user_based, data, measures=['RMSE', 'MAE'], cv=5, verbose=False)\n",
    "\n",
    "ub_cosine_rmse = cv['test_rmse'].mean()\n",
    "ub_cosine_mae = cv['test_mae'].mean()\n",
    "cv['test_rmse'].mean(), cv['test_mae'].mean()"
   ]
  },
  {
   "cell_type": "code",
   "execution_count": 301,
   "metadata": {},
   "outputs": [
    {
     "name": "stdout",
     "output_type": "stream",
     "text": [
      "Computing the pearson similarity matrix...\n",
      "Done computing similarity matrix.\n",
      "Computing the pearson similarity matrix...\n",
      "Done computing similarity matrix.\n",
      "Computing the pearson similarity matrix...\n",
      "Done computing similarity matrix.\n",
      "Computing the pearson similarity matrix...\n",
      "Done computing similarity matrix.\n",
      "Computing the pearson similarity matrix...\n",
      "Done computing similarity matrix.\n"
     ]
    },
    {
     "data": {
      "text/plain": [
       "(0.9973679982646704, 0.7719200776228714)"
      ]
     },
     "execution_count": 301,
     "metadata": {},
     "output_type": "execute_result"
    }
   ],
   "source": [
    "user_based = KNNBasic(sim_options={'user_based': True, 'name': 'pearson'})\n",
    "cv = cross_validate(user_based, data, measures=['RMSE', 'MAE'], cv=5, verbose=False)\n",
    "\n",
    "ub_pearson_rmse = cv['test_rmse'].mean()\n",
    "ub_pearson_mae = cv['test_mae'].mean()\n",
    "\n",
    "cv['test_rmse'].mean(), cv['test_mae'].mean()"
   ]
  },
  {
   "cell_type": "code",
   "execution_count": 302,
   "metadata": {},
   "outputs": [
    {
     "name": "stdout",
     "output_type": "stream",
     "text": [
      "Computing the msd similarity matrix...\n",
      "Done computing similarity matrix.\n",
      "Computing the msd similarity matrix...\n",
      "Done computing similarity matrix.\n",
      "Computing the msd similarity matrix...\n",
      "Done computing similarity matrix.\n",
      "Computing the msd similarity matrix...\n",
      "Done computing similarity matrix.\n",
      "Computing the msd similarity matrix...\n",
      "Done computing similarity matrix.\n"
     ]
    },
    {
     "data": {
      "text/plain": [
       "(0.9681875155695989, 0.7438652316241303)"
      ]
     },
     "execution_count": 302,
     "metadata": {},
     "output_type": "execute_result"
    }
   ],
   "source": [
    "user_based = KNNBasic(sim_options={'user_based': True, 'name': 'msd'})\n",
    "cv = cross_validate(user_based, data, measures=['RMSE', 'MAE'], cv=5, verbose=False)\n",
    "\n",
    "ub_msd_rmse = cv['test_rmse'].mean()\n",
    "ub_msd_mae = cv['test_mae'].mean()\n",
    "\n",
    "\n",
    "cv['test_rmse'].mean(), cv['test_mae'].mean()"
   ]
  },
  {
   "cell_type": "markdown",
   "metadata": {},
   "source": [
    "### Item based"
   ]
  },
  {
   "cell_type": "code",
   "execution_count": 303,
   "metadata": {},
   "outputs": [
    {
     "name": "stdout",
     "output_type": "stream",
     "text": [
      "Computing the cosine similarity matrix...\n",
      "Done computing similarity matrix.\n",
      "Computing the cosine similarity matrix...\n",
      "Done computing similarity matrix.\n",
      "Computing the cosine similarity matrix...\n",
      "Done computing similarity matrix.\n",
      "Computing the cosine similarity matrix...\n",
      "Done computing similarity matrix.\n",
      "Computing the cosine similarity matrix...\n",
      "Done computing similarity matrix.\n"
     ]
    },
    {
     "data": {
      "text/plain": [
       "(0.994488190466325, 0.7743621673641571)"
      ]
     },
     "execution_count": 303,
     "metadata": {},
     "output_type": "execute_result"
    }
   ],
   "source": [
    "item_based = KNNBasic(sim_options={'user_based': False, 'name': 'cosine'})\n",
    "cv = cross_validate(item_based, data, measures=['RMSE', 'MAE'], cv=5, verbose=False)\n",
    "\n",
    "ib_cosine_rmse = cv['test_rmse'].mean()\n",
    "ib_cosine_mae = cv['test_mae'].mean()\n",
    "\n",
    "cv['test_rmse'].mean(), cv['test_mae'].mean()"
   ]
  },
  {
   "cell_type": "code",
   "execution_count": 304,
   "metadata": {},
   "outputs": [
    {
     "name": "stdout",
     "output_type": "stream",
     "text": [
      "Computing the pearson similarity matrix...\n",
      "Done computing similarity matrix.\n",
      "Computing the pearson similarity matrix...\n",
      "Done computing similarity matrix.\n",
      "Computing the pearson similarity matrix...\n",
      "Done computing similarity matrix.\n",
      "Computing the pearson similarity matrix...\n",
      "Done computing similarity matrix.\n",
      "Computing the pearson similarity matrix...\n",
      "Done computing similarity matrix.\n"
     ]
    },
    {
     "data": {
      "text/plain": [
       "(0.9891077446308565, 0.7679815039421423)"
      ]
     },
     "execution_count": 304,
     "metadata": {},
     "output_type": "execute_result"
    }
   ],
   "source": [
    "item_based = KNNBasic(sim_options={'user_based': False, 'name': 'pearson'})\n",
    "cv = cross_validate(item_based, data, measures=['RMSE', 'MAE'], cv=5, verbose=False)\n",
    "\n",
    "ib_pearson_rmse = cv['test_rmse'].mean()\n",
    "ib_pearson_mae = cv['test_mae'].mean()\n",
    "\n",
    "cv['test_rmse'].mean(), cv['test_mae'].mean()"
   ]
  },
  {
   "cell_type": "code",
   "execution_count": 305,
   "metadata": {},
   "outputs": [
    {
     "name": "stdout",
     "output_type": "stream",
     "text": [
      "Computing the msd similarity matrix...\n",
      "Done computing similarity matrix.\n",
      "Computing the msd similarity matrix...\n",
      "Done computing similarity matrix.\n",
      "Computing the msd similarity matrix...\n",
      "Done computing similarity matrix.\n",
      "Computing the msd similarity matrix...\n",
      "Done computing similarity matrix.\n",
      "Computing the msd similarity matrix...\n",
      "Done computing similarity matrix.\n"
     ]
    },
    {
     "data": {
      "text/plain": [
       "(0.9346399552463287, 0.7213371061137048)"
      ]
     },
     "execution_count": 305,
     "metadata": {},
     "output_type": "execute_result"
    }
   ],
   "source": [
    "item_based = KNNBasic(sim_options={'user_based': False, 'name': 'msd'})\n",
    "cv = cross_validate(item_based, data, measures=['RMSE', 'MAE'], cv=5, verbose=False)\n",
    "\n",
    "ib_msd_rmse = cv['test_rmse'].mean()\n",
    "ib_msd_mae = cv['test_mae'].mean()\n",
    "\n",
    "cv['test_rmse'].mean(), cv['test_mae'].mean()"
   ]
  },
  {
   "cell_type": "code",
   "execution_count": 336,
   "metadata": {},
   "outputs": [
    {
     "data": {
      "text/plain": [
       "<matplotlib.legend.Legend at 0x7eb9ae147d90>"
      ]
     },
     "execution_count": 336,
     "metadata": {},
     "output_type": "execute_result"
    },
    {
     "data": {
      "image/png": "[encoded data removed]",
      "text/plain": [
       "<Figure size 640x480 with 1 Axes>"
      ]
     },
     "metadata": {},
     "output_type": "display_data"
    }
   ],
   "source": [
    "import matplotlib.pyplot as plt\n",
    "\n",
    "\n",
    "plt.plot(\n",
    "    ['Cosine', 'Pearson', 'MSD'],\n",
    "    [ib_cosine_mae, ib_pearson_mae, ib_msd_mae],\n",
    "    'g'\n",
    ")\n",
    "\n",
    "plt.plot(\n",
    "    ['Cosine', 'Pearson', 'MSD'],\n",
    "    [ib_cosine_rmse, ib_pearson_rmse, ib_msd_rmse],\n",
    "    'r'\n",
    ")\n",
    "\n",
    "plt.plot(\n",
    "    ['Cosine', 'Pearson', 'MSD'],\n",
    "    [ub_cosine_mae, ub_pearson_mae, ub_msd_mae],\n",
    "    'b'\n",
    ")\n",
    "\n",
    "plt.plot(\n",
    "    ['Cosine', 'Pearson', 'MSD'],\n",
    "    [ub_cosine_rmse, ub_pearson_rmse, ub_msd_rmse],\n",
    "    'k'\n",
    ")\n",
    "\n",
    "plt.legend(['MAE(Item)', 'RMSE(Item)', 'MAE(User)', 'RMSE(User)'])\n",
    "\n",
    "\n"
   ]
  },
  {
   "cell_type": "markdown",
   "metadata": {},
   "source": [
    "## f"
   ]
  },
  {
   "cell_type": "code",
   "execution_count": 344,
   "metadata": {},
   "outputs": [
    {
     "name": "stdout",
     "output_type": "stream",
     "text": [
      "Computing the cosine similarity matrix...\n",
      "Done computing similarity matrix.\n",
      "Computing the cosine similarity matrix...\n",
      "Done computing similarity matrix.\n",
      "Computing the cosine similarity matrix...\n",
      "Done computing similarity matrix.\n",
      "Computing the cosine similarity matrix...\n",
      "Done computing similarity matrix.\n",
      "Computing the cosine similarity matrix...\n",
      "Done computing similarity matrix.\n",
      "1.1067693007907213 0.8641170506322295\n",
      "Computing the cosine similarity matrix...\n",
      "Done computing similarity matrix.\n",
      "Computing the cosine similarity matrix...\n",
      "Done computing similarity matrix.\n",
      "Computing the cosine similarity matrix...\n",
      "Done computing similarity matrix.\n",
      "Computing the cosine similarity matrix...\n",
      "Done computing similarity matrix.\n",
      "Computing the cosine similarity matrix...\n",
      "Done computing similarity matrix.\n",
      "1.0533898778088093 0.8232632206517543\n",
      "Computing the cosine similarity matrix...\n",
      "Done computing similarity matrix.\n",
      "Computing the cosine similarity matrix...\n",
      "Done computing similarity matrix.\n",
      "Computing the cosine similarity matrix...\n",
      "Done computing similarity matrix.\n",
      "Computing the cosine similarity matrix...\n",
      "Done computing similarity matrix.\n",
      "Computing the cosine similarity matrix...\n",
      "Done computing similarity matrix.\n",
      "1.0166632137710148 0.7926095290862349\n",
      "Computing the cosine similarity matrix...\n",
      "Done computing similarity matrix.\n",
      "Computing the cosine similarity matrix...\n",
      "Done computing similarity matrix.\n",
      "Computing the cosine similarity matrix...\n",
      "Done computing similarity matrix.\n",
      "Computing the cosine similarity matrix...\n",
      "Done computing similarity matrix.\n",
      "Computing the cosine similarity matrix...\n",
      "Done computing similarity matrix.\n",
      "0.9902005638403282 0.7701208219629699\n"
     ]
    }
   ],
   "source": [
    "ib = dict()\n",
    "for k in [5, 10, 20, 50]:\n",
    "    item_based = KNNBasic(k = k, sim_options={'user_based': False, 'name': 'cosine'})\n",
    "    cv = cross_validate(item_based, data, measures=['RMSE', 'MAE'], cv=5, verbose=False)\n",
    "    ib[f'{k}'] = (cv['test_rmse'].mean(), cv['test_mae'].mean())\n",
    "    print(cv['test_rmse'].mean(), cv['test_mae'].mean())"
   ]
  },
  {
   "cell_type": "code",
   "execution_count": 343,
   "metadata": {},
   "outputs": [
    {
     "name": "stdout",
     "output_type": "stream",
     "text": [
      "Computing the cosine similarity matrix...\n",
      "Done computing similarity matrix.\n",
      "Computing the cosine similarity matrix...\n",
      "Done computing similarity matrix.\n",
      "Computing the cosine similarity matrix...\n",
      "Done computing similarity matrix.\n",
      "Computing the cosine similarity matrix...\n",
      "Done computing similarity matrix.\n",
      "Computing the cosine similarity matrix...\n",
      "Done computing similarity matrix.\n",
      "1.0414907340600337 0.8043542245703559\n",
      "Computing the cosine similarity matrix...\n",
      "Done computing similarity matrix.\n",
      "Computing the cosine similarity matrix...\n",
      "Done computing similarity matrix.\n",
      "Computing the cosine similarity matrix...\n",
      "Done computing similarity matrix.\n",
      "Computing the cosine similarity matrix...\n",
      "Done computing similarity matrix.\n",
      "Computing the cosine similarity matrix...\n",
      "Done computing similarity matrix.\n",
      "1.009832995431062 0.777824925078731\n",
      "Computing the cosine similarity matrix...\n",
      "Done computing similarity matrix.\n",
      "Computing the cosine similarity matrix...\n",
      "Done computing similarity matrix.\n",
      "Computing the cosine similarity matrix...\n",
      "Done computing similarity matrix.\n",
      "Computing the cosine similarity matrix...\n",
      "Done computing similarity matrix.\n",
      "Computing the cosine similarity matrix...\n",
      "Done computing similarity matrix.\n",
      "0.9956100247584325 0.768018430720758\n",
      "Computing the cosine similarity matrix...\n",
      "Done computing similarity matrix.\n",
      "Computing the cosine similarity matrix...\n",
      "Done computing similarity matrix.\n",
      "Computing the cosine similarity matrix...\n",
      "Done computing similarity matrix.\n",
      "Computing the cosine similarity matrix...\n",
      "Done computing similarity matrix.\n",
      "Computing the cosine similarity matrix...\n",
      "Done computing similarity matrix.\n",
      "0.9939129287211694 0.7691401401025038\n"
     ]
    }
   ],
   "source": [
    "ub = dict()\n",
    "for k in [5, 10, 20, 50]:\n",
    "    user_based = KNNBasic(k = k, sim_options={'user_based': True, 'name': 'cosine'})\n",
    "    cv = cross_validate(user_based, data, measures=['RMSE', 'MAE'], cv=5, verbose=False)\n",
    "    ub[f'{k}'] = cv['test_rmse'].mean(), cv['test_mae'].mean()\n",
    "    print(cv['test_rmse'].mean(), cv['test_mae'].mean())"
   ]
  },
  {
   "cell_type": "code",
   "execution_count": 355,
   "metadata": {},
   "outputs": [
    {
     "data": {
      "text/plain": [
       "<matplotlib.legend.Legend at 0x7eb9ace613d0>"
      ]
     },
     "execution_count": 355,
     "metadata": {},
     "output_type": "execute_result"
    },
    {
     "data": {
      "image/png": "[encoded data removed]",
      "text/plain": [
       "<Figure size 640x480 with 1 Axes>"
      ]
     },
     "metadata": {},
     "output_type": "display_data"
    }
   ],
   "source": [
    "# plt.plot(\n",
    "#     ['Cosine', 'Pearson', 'MSD'],\n",
    "#     [ib_cosine_mae, ib_pearson_mae, ib_msd_mae],\n",
    "#     'g'\n",
    "# )\n",
    "\n",
    "# plt.plot(\n",
    "#     ['Cosine', 'Pearson', 'MSD'],\n",
    "#     [ib_cosine_rmse, ib_pearson_rmse, ib_msd_rmse],\n",
    "#     'r'\n",
    "# )\n",
    "\n",
    "# plt.plot(\n",
    "#     ['Cosine', 'Pearson', 'MSD'],\n",
    "#     [ub_cosine_mae, ub_pearson_mae, ub_msd_mae],\n",
    "#     'b'\n",
    "# )\n",
    "\n",
    "# plt.plot(\n",
    "#     ['Cosine', 'Pearson', 'MSD'],\n",
    "#     [ub_cosine_rmse, ub_pearson_rmse, ub_msd_rmse],\n",
    "#     'k'\n",
    "# )\n",
    "\n",
    "\n",
    "plt.plot(ib.keys(), [i[1] for i in ib.values()])\n",
    "plt.plot(ib.keys(), [i[0] for i in ib.values()])\n",
    "\n",
    "plt.plot(ub.keys(), [i[1] for i in ub.values()])\n",
    "plt.plot(ub.keys(), [i[0] for i in ub.values()])\n",
    "\n",
    "plt.legend(['MAE(Item)', 'RMSE(Item)', 'MAE(User)', 'RMSE(User)'])"
   ]
  }
 ],
 "metadata": {
  "kernelspec": {
   "display_name": "new",
   "language": "python",
   "name": "python3"
  },
  "language_info": {
   "codemirror_mode": {
    "name": "ipython",
    "version": 3
   },
   "file_extension": ".py",
   "mimetype": "text/x-python",
   "name": "python",
   "nbconvert_exporter": "python",
   "pygments_lexer": "ipython3",
   "version": "3.11.5"
  }
 },
 "nbformat": 4,
 "nbformat_minor": 2
}
